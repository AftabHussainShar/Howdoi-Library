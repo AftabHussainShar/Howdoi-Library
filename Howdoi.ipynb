{
  "nbformat": 4,
  "nbformat_minor": 0,
  "metadata": {
    "colab": {
      "provenance": []
    },
    "kernelspec": {
      "name": "python3",
      "display_name": "Python 3"
    },
    "language_info": {
      "name": "python"
    }
  },
  "cells": [
    {
      "cell_type": "code",
      "execution_count": 1,
      "metadata": {
        "colab": {
          "base_uri": "https://localhost:8080/"
        },
        "id": "h4qL5hH7v6xI",
        "outputId": "67fe4934-8a26-4211-a081-dee1d912e374"
      },
      "outputs": [
        {
          "output_type": "stream",
          "name": "stdout",
          "text": [
            "Collecting howdoi\n",
            "  Downloading howdoi-2.0.20.tar.gz (27 kB)\n",
            "  Preparing metadata (setup.py) ... \u001b[?25l\u001b[?25hdone\n",
            "Requirement already satisfied: Pygments in /usr/local/lib/python3.10/dist-packages (from howdoi) (2.16.1)\n",
            "Collecting cssselect (from howdoi)\n",
            "  Downloading cssselect-1.2.0-py2.py3-none-any.whl (18 kB)\n",
            "Requirement already satisfied: lxml in /usr/local/lib/python3.10/dist-packages (from howdoi) (4.9.3)\n",
            "Collecting pyquery (from howdoi)\n",
            "  Downloading pyquery-2.0.0-py3-none-any.whl (22 kB)\n",
            "Requirement already satisfied: requests in /usr/local/lib/python3.10/dist-packages (from howdoi) (2.31.0)\n",
            "Collecting cachelib (from howdoi)\n",
            "  Downloading cachelib-0.10.2-py3-none-any.whl (18 kB)\n",
            "Requirement already satisfied: appdirs in /usr/local/lib/python3.10/dist-packages (from howdoi) (1.4.4)\n",
            "Collecting keep (from howdoi)\n",
            "  Downloading keep-2.10.1-py3-none-any.whl (15 kB)\n",
            "Requirement already satisfied: rich in /usr/local/lib/python3.10/dist-packages (from howdoi) (13.7.0)\n",
            "Collecting colorama (from howdoi)\n",
            "  Downloading colorama-0.4.6-py2.py3-none-any.whl (25 kB)\n",
            "Requirement already satisfied: click in /usr/local/lib/python3.10/dist-packages (from keep->howdoi) (8.1.7)\n",
            "Collecting terminaltables (from keep->howdoi)\n",
            "  Downloading terminaltables-3.1.10-py2.py3-none-any.whl (15 kB)\n",
            "Collecting PyGithub (from keep->howdoi)\n",
            "  Downloading PyGithub-2.1.1-py3-none-any.whl (302 kB)\n",
            "\u001b[2K     \u001b[90m━━━━━━━━━━━━━━━━━━━━━━━━━━━━━━━━━━━━━━━━\u001b[0m \u001b[32m302.9/302.9 kB\u001b[0m \u001b[31m7.8 MB/s\u001b[0m eta \u001b[36m0:00:00\u001b[0m\n",
            "\u001b[?25hRequirement already satisfied: charset-normalizer<4,>=2 in /usr/local/lib/python3.10/dist-packages (from requests->howdoi) (3.3.2)\n",
            "Requirement already satisfied: idna<4,>=2.5 in /usr/local/lib/python3.10/dist-packages (from requests->howdoi) (3.6)\n",
            "Requirement already satisfied: urllib3<3,>=1.21.1 in /usr/local/lib/python3.10/dist-packages (from requests->howdoi) (2.0.7)\n",
            "Requirement already satisfied: certifi>=2017.4.17 in /usr/local/lib/python3.10/dist-packages (from requests->howdoi) (2023.11.17)\n",
            "Requirement already satisfied: markdown-it-py>=2.2.0 in /usr/local/lib/python3.10/dist-packages (from rich->howdoi) (3.0.0)\n",
            "Requirement already satisfied: mdurl~=0.1 in /usr/local/lib/python3.10/dist-packages (from markdown-it-py>=2.2.0->rich->howdoi) (0.1.2)\n",
            "Collecting pynacl>=1.4.0 (from PyGithub->keep->howdoi)\n",
            "  Downloading PyNaCl-1.5.0-cp36-abi3-manylinux_2_17_x86_64.manylinux2014_x86_64.manylinux_2_24_x86_64.whl (856 kB)\n",
            "\u001b[2K     \u001b[90m━━━━━━━━━━━━━━━━━━━━━━━━━━━━━━━━━━━━━━━━\u001b[0m \u001b[32m856.7/856.7 kB\u001b[0m \u001b[31m33.3 MB/s\u001b[0m eta \u001b[36m0:00:00\u001b[0m\n",
            "\u001b[?25hRequirement already satisfied: python-dateutil in /usr/local/lib/python3.10/dist-packages (from PyGithub->keep->howdoi) (2.8.2)\n",
            "Collecting pyjwt[crypto]>=2.4.0 (from PyGithub->keep->howdoi)\n",
            "  Downloading PyJWT-2.8.0-py3-none-any.whl (22 kB)\n",
            "Requirement already satisfied: typing-extensions>=4.0.0 in /usr/local/lib/python3.10/dist-packages (from PyGithub->keep->howdoi) (4.5.0)\n",
            "Collecting Deprecated (from PyGithub->keep->howdoi)\n",
            "  Downloading Deprecated-1.2.14-py2.py3-none-any.whl (9.6 kB)\n",
            "Requirement already satisfied: cryptography>=3.4.0 in /usr/local/lib/python3.10/dist-packages (from pyjwt[crypto]>=2.4.0->PyGithub->keep->howdoi) (41.0.7)\n",
            "Requirement already satisfied: cffi>=1.4.1 in /usr/local/lib/python3.10/dist-packages (from pynacl>=1.4.0->PyGithub->keep->howdoi) (1.16.0)\n",
            "Requirement already satisfied: wrapt<2,>=1.10 in /usr/local/lib/python3.10/dist-packages (from Deprecated->PyGithub->keep->howdoi) (1.14.1)\n",
            "Requirement already satisfied: six>=1.5 in /usr/local/lib/python3.10/dist-packages (from python-dateutil->PyGithub->keep->howdoi) (1.16.0)\n",
            "Requirement already satisfied: pycparser in /usr/local/lib/python3.10/dist-packages (from cffi>=1.4.1->pynacl>=1.4.0->PyGithub->keep->howdoi) (2.21)\n",
            "Building wheels for collected packages: howdoi\n",
            "  Building wheel for howdoi (setup.py) ... \u001b[?25l\u001b[?25hdone\n",
            "  Created wheel for howdoi: filename=howdoi-2.0.20-py3-none-any.whl size=16076 sha256=353ac3f0fb3e89653ad7412fad2bb49ee96a6985562d2a526271308d599c644f\n",
            "  Stored in directory: /root/.cache/pip/wheels/31/a1/c8/80acaaa566a958b7dc3da1516e08ffd8caa45cfdd229b6ab8c\n",
            "Successfully built howdoi\n",
            "Installing collected packages: terminaltables, pyjwt, Deprecated, cssselect, colorama, cachelib, pyquery, pynacl, PyGithub, keep, howdoi\n",
            "  Attempting uninstall: pyjwt\n",
            "    Found existing installation: PyJWT 2.3.0\n",
            "    Uninstalling PyJWT-2.3.0:\n",
            "      Successfully uninstalled PyJWT-2.3.0\n",
            "Successfully installed Deprecated-1.2.14 PyGithub-2.1.1 cachelib-0.10.2 colorama-0.4.6 cssselect-1.2.0 howdoi-2.0.20 keep-2.10.1 pyjwt-2.8.0 pynacl-1.5.0 pyquery-2.0.0 terminaltables-3.1.10\n"
          ]
        }
      ],
      "source": [
        "pip install howdoi"
      ]
    },
    {
      "cell_type": "code",
      "source": [
        "!howdoi current version of pyhton"
      ],
      "metadata": {
        "colab": {
          "base_uri": "https://localhost:8080/"
        },
        "id": "hKLV6kmKwCAg",
        "outputId": "9efc5cb0-809e-4719-de96-8845c7a82659"
      },
      "execution_count": 9,
      "outputs": [
        {
          "output_type": "stream",
          "name": "stdout",
          "text": [
            "python -V\n",
            "\u001b[0m"
          ]
        }
      ]
    },
    {
      "cell_type": "code",
      "source": [
        "!howdoi use of pyhton"
      ],
      "metadata": {
        "colab": {
          "base_uri": "https://localhost:8080/"
        },
        "id": "AHxCe-_vwE7O",
        "outputId": "faede6bc-9e34-47e6-f334-0b6155f01893"
      },
      "execution_count": 8,
      "outputs": [
        {
          "output_type": "stream",
          "name": "stdout",
          "text": [
            "range(-2, 2)\n",
            "\u001b[0m"
          ]
        }
      ]
    },
    {
      "cell_type": "code",
      "source": [
        "!howdoi make trees in Python"
      ],
      "metadata": {
        "colab": {
          "base_uri": "https://localhost:8080/"
        },
        "id": "MBb2hbp2wxdO",
        "outputId": "3fa24efd-d745-4930-912d-446fb3b4d093"
      },
      "execution_count": 10,
      "outputs": [
        {
          "output_type": "stream",
          "name": "stdout",
          "text": [
            "from anytree import Node, RenderTree\n",
            "\n",
            "udo = Node(\"Udo\")\n",
            "marc = Node(\"Marc\", parent=udo)\n",
            "lian = Node(\"Lian\", parent=marc)\n",
            "dan = Node(\"Dan\", parent=udo)\n",
            "jet = Node(\"Jet\", parent=dan)\n",
            "jan = Node(\"Jan\", parent=dan)\n",
            "joe = Node(\"Joe\", parent=dan)\n",
            "\n",
            "print(udo)\n",
            "Node('/Udo')\n",
            "print(joe)\n",
            "Node('/Udo/Dan/Joe')\n",
            "\n",
            "for pre, fill, node in RenderTree(udo):\n",
            "    print(\"%s%s\" % (pre, node.name))\n",
            "Udo\n",
            "├── Marc\n",
            "│   └── Lian\n",
            "└── Dan\n",
            "    ├── Jet\n",
            "    ├── Jan\n",
            "    └── Joe\n",
            "\n",
            "print(dan.children)\n",
            "(Node('/Udo/Dan/Jet'), Node('/Udo/Dan/Jan'), Node('/Udo/Dan/Joe'))\n",
            "\u001b[0m"
          ]
        }
      ]
    },
    {
      "cell_type": "code",
      "source": [
        "!howdoi What libraries can I use to visualize tree"
      ],
      "metadata": {
        "colab": {
          "base_uri": "https://localhost:8080/"
        },
        "id": "W43V471ww6ul",
        "outputId": "4edeb805-83a9-41bf-b0db-a5656f1960e4"
      },
      "execution_count": 15,
      "outputs": [
        {
          "output_type": "stream",
          "name": "stdout",
          "text": [
            "I develop [ETE](http://etetoolkit.org), which is a python package intended, among other stuff, for programmatic tree rendering and visualization. You can create your own [layout functions](http://etetoolkit.org/docs/latest/tutorial/tutorial_drawing.html) and produce custom [tree images](http://etetoolkit.org/gallery/):\n",
            "[](https://i.stack.imgur.com/PKLAL.png)\n",
            "\n",
            "\n",
            "\n",
            "It has a focus on phylogenetics, but it can actually deal with any type of hierarchical tree (clustering, decision trees, etc.)\n",
            "\u001b[0m"
          ]
        }
      ]
    },
    {
      "cell_type": "code",
      "source": [
        "!howdoi How can I implement a tree traversal algorithm in Python"
      ],
      "metadata": {
        "colab": {
          "base_uri": "https://localhost:8080/"
        },
        "id": "BWlFdjOfxE59",
        "outputId": "5cfa02f3-893d-41ae-a97a-bd53e4c4c1b9"
      },
      "execution_count": 16,
      "outputs": [
        {
          "output_type": "stream",
          "name": "stdout",
          "text": [
            "class Solution(object):\n",
            "    def inorderTraversal(self, root):\n",
            "        res = []\n",
            "        if root:\n",
            "            res = self.inorderTraversal(root.left) \n",
            "            res.append(root.val)\n",
            "            res = res + self.inorderTraversal(root.right)\n",
            "        return res\n",
            "\u001b[0m"
          ]
        }
      ]
    }
  ]
}